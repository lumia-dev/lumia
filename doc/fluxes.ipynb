{
 "cells": [
  {
   "cell_type": "markdown",
   "metadata": {},
   "source": [
    "# Flux input files\n",
    "\n",
    "CO$_2$ fluxes are stored in two main places during the inversion: The optimizer need the fluxes to be provided as a control vector, and the transport model needs them to be provided as a transport model input file:\n",
    "- the control vector only includes information about the flux category to be optimized, and at the resolution at which it is optimized (typically, lower than the resolution of the transport model);\n",
    "- the transport model needs fluxes from all categories (incluing those prescribed), and at its native resolution.\n",
    "\n",
    "The conversion from control vector to transport model input file occurs at the beginning of each iteration, and is done in two steps:\n",
    "1. Generate a flux structure (e.g. one instance of the `formatters.lagrange.Struct` class) from the control vector. This is done by the `interface.VecToStruct` method).\n",
    "2. Write a transport model input file from that flux structure. This is done by the `formatters.lagrange.WriteStruct` method.\n",
    "\n",
    "The simplest way to setup fluxes in the inversion is therefore to create the initial flux structure using one of the three methods below, and to pass it to the interface during its initialization (e.g. via the `ancilliary` attribute in the `__init__` of the `interfaces.monthlyFlux.Interface` class, used in the [example notebook](var4d.html)). \n",
    "\n",
    "## 1. Creation of an zero flux structure (`formatters.lagrange.CreateStruct`)\n",
    "\n",
    "The flux structure is essentially a python dictionary (with an added `__add__` method), with the following hierarchy:\n",
    "\n",
    "```\n",
    "{'cat1': {'emis': emis,\n",
    "  'time_interval': {'time_start': ts, 'time_end': te},\n",
    "  'lats': lats,\n",
    "  'lons': lons,\n",
    "  'region': rname},\n",
    " 'cat2': \n",
    "   ...}\n",
    " }\n",
    "```\n",
    "where:\n",
    "- `emis` is a *(nt, nlat, nlon)* numpy array storing the net surface flux (in $\\mu$g/m$^2$/s);\n",
    "- `lats` and `lons` are arrays storing the lat/lon coordinates (respectively of dimension `(nlat, )` and `(nlon, )`) of the center of the grid points;\n",
    "- `ts` and `te` are arrays (of dimension `(nt, )`) storing the start and end of the time intervals (arrays of `datetime.datetime` objects)\n",
    "- `rname` is the region name.\n",
    "\n",
    "The `formatters.lagrange.CreateStruct` can be used to initialize an empty structure (i.e. with the data in the good shape, but set to zero). Call with `CreateStruct(categories, region, start, end, dt))`\n",
    "\n",
    "## 2. Using a pre-processed input file (`formatters.lagrange.ReadStruct`)\n",
    "\n",
    "The `ReadStruct` function is used in the inversion to load the data from a file previously written using `WriteStruct`. It is therefore also possible to generate such a file externally, and to just load it using `ReadStruct`. The file needs to be in the netCDF4 format, with a `time_components` global dimension, set to **6** , and one group for each flux category. Each group has three dimensions (`nlat`, `nlon` and `nt`) and five variables:\n",
    "- `emis`: the flux estimate for that category (in $\\mu$g/m$^2$/s);\n",
    "- `lats` and `lons`: the lat/lon coordinates of the centers of the grid cells;\n",
    "- `times_start` and `times_end`: the times of the start and end of each time step (_int_ arrays, with the dates decomposed as (year, month, day, hour, min, sec))."
   ]
  },
  {
   "cell_type": "raw",
   "metadata": {},
   "source": [
    "$ ncdump -h modelData.truth.nc\n",
    "netcdf modelData.truth {\n",
    "dimensions:\n",
    "    time_components = 6 ;\n",
    "\n",
    "group: fossil {\n",
    "  dimensions:\n",
    "    nt = 2920 ;\n",
    "    nlat = 80 ;\n",
    "    nlon = 100 ;\n",
    "  variables:\n",
    "    double emis(nt, nlat, nlon) ;\n",
    "    int times_start(nt, time_components) ;\n",
    "    int times_end(nt, time_components) ;\n",
    "    float lats(nlat) ;\n",
    "    float lons(nlon) ;\n",
    "  } // group fossil\n",
    "\n",
    "group: ocean {\n",
    "  ...\n",
    "  } // group ocean\n",
    "    \n",
    "group: biosphere {\n",
    "  ...\n",
    "  } // group biosphere\n",
    "\n",
    "..."
   ]
  },
  {
   "cell_type": "markdown",
   "metadata": {},
   "source": [
    "## 3. From a flux archive (`formatters.lagrange.ReadArchive`)\n",
    "\n",
    "The `formatters.lagrange` module also contains a `ReadArchive` function, which constructs a flux structure from an archive of annual flux files:\n",
    "- Each annual flux file contains one single flux estimate (i.e. just one flux category).\n",
    "- The flux files are named following the pattern **{prefix}.{source}.{year}.nc**\n",
    "\n",
    "The function takes four arguments:\n",
    "- prefix: a _string_, including the path of the files;\n",
    "- start, end: two _datetime.datetime_ objects, specifying the start and end of the simulation period;\n",
    "- category: a dictionary establishing the correspondance between the **source** and the corresponding category name in the inversion.\n",
    "\n",
    "For example, with `prefix='/path/to/the/files/flux_co2.'`, `category={'biosphere':'LPJ_GUESS', 'fossil':'EDGAR'}`, `start=datetime(2010,1,1)` and `end=datetime(2011,1,1)`, the function will call `ReadArchive(prefix, start, end, categories)` will return a `Struct` spanning one year, constructed from the data in the files **/path/to/the/files/flux_co2.LPJ_GUESS.2010.nc** and **/path/to/the/files/flux_co2.EDGAR.2010.nc**. \n",
    "Note that the spatial and temporal resolution is that of the files themselves (no other check is done).\n",
    "\n",
    "The archived files are in netCDF4 format, with three dimensions (time, lat and lon), and four variables (time, lat, lon and co2flux), following the example below:"
   ]
  },
  {
   "cell_type": "raw",
   "metadata": {},
   "source": [
    "$ ncdump -h flux_co2.fossil_EDGAR.2017.nc\n",
    "netcdf flux_co2.fossil_EDGAR.2017 {\n",
    "dimensions:\n",
    "    time = 2920 ;\n",
    "    lat = 80 ;\n",
    "    lon = 100 ;\n",
    "variables:\n",
    "    int64 time(time) ;\n",
    "        time:units = \"hours since 2017-01-01 00:00:00\" ;\n",
    "        time:calendar = \"proleptic_gregorian\" ;\n",
    "    double lat(lat) ;\n",
    "        lat:_FillValue = NaN ;\n",
    "    double lon(lon) ;\n",
    "        lon:_FillValue = NaN ;\n",
    "    double co2flux(time, lat, lon) ;\n",
    "        co2flux:_FillValue = NaN ;\n",
    "}"
   ]
  }
 ],
 "metadata": {
  "kernelspec": {
   "display_name": "Python 3",
   "language": "python",
   "name": "python3"
  },
  "language_info": {
   "codemirror_mode": {
    "name": "ipython",
    "version": 3
   },
   "file_extension": ".py",
   "mimetype": "text/x-python",
   "name": "python",
   "nbconvert_exporter": "python",
   "pygments_lexer": "ipython3",
   "version": "3.8.2"
  }
 },
 "nbformat": 4,
 "nbformat_minor": 4
}
