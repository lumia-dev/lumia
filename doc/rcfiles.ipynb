{
 "cells": [
  {
   "cell_type": "markdown",
   "metadata": {},
   "source": [
    "# Rc-files HOWTO\n",
    "\n",
    "The default format for configuration files in lumia is \"rc-files\". A rc-file contains pairs of `key : value` settings, where `value` can be a single variable or a list (separated by commas), of string, integer, real or boolean format. The keys values can also be set as a composite of the values of other keys.\n",
    "\n",
    "In python, the settings are stored in an instance of the `lumia.rc` class, which has `setkey` and `get` methods, which enable setting and reading the values of rc-keys."
   ]
  },
  {
   "cell_type": "code",
   "execution_count": 1,
   "metadata": {
    "execution": {
     "iopub.execute_input": "2020-09-11T18:16:38.074395Z",
     "iopub.status.busy": "2020-09-11T18:16:38.074145Z",
     "iopub.status.idle": "2020-09-11T18:16:39.311627Z",
     "shell.execute_reply": "2020-09-11T18:16:39.310037Z",
     "shell.execute_reply.started": "2020-09-11T18:16:38.074371Z"
    }
   },
   "outputs": [],
   "source": [
    "import lumia\n",
    "rcf = lumia.rc(\"../GMDD/rc/gmdd.rc\")"
   ]
  },
  {
   "cell_type": "markdown",
   "metadata": {},
   "source": [
    "The file has the following content:"
   ]
  },
  {
   "cell_type": "code",
   "execution_count": 2,
   "metadata": {
    "execution": {
     "iopub.execute_input": "2020-09-11T18:16:44.704499Z",
     "iopub.status.busy": "2020-09-11T18:16:44.704209Z",
     "iopub.status.idle": "2020-09-11T18:16:44.710602Z",
     "shell.execute_reply": "2020-09-11T18:16:44.709721Z",
     "shell.execute_reply.started": "2020-09-11T18:16:44.704463Z"
    }
   },
   "outputs": [
    {
     "data": {
      "text/plain": [
       "#include common.rc\n",
       "\n",
       "! settings common to the gmdd inversions\n",
       "\n",
       "! ################################################################################################\n",
       "! Paths:\n",
       "project     : GMD\n",
       "path.run    : ${LUMIA_SCRATCH}/LUMIA/${project}/${tag}   ! Temporary path run files are stored\n",
       "path.output : results/${project}/${tag}                  ! Location of the output\n",
       "\n",
       "! ################################################################################################\n",
       "! Domain size and time span:\n",
       "time.start : 2011,1,1\n",
       "time.end   : 2012,1,1\n",
       "region     : eurocom05x05\n",
       "\n",
       "! ################################################################################################\n",
       "! Fluxes\n",
       "emissions.categories       : fossil, ocean, fires, biosphere ! flux categories transported\n",
       "\n",
       "! The fluxes for the category \"fossil\" will be read from the files \"flux_co2.EDGAR_eurocom.YYYY.nc\" (with YYYY the year), in the folder ${LUMIA_DATA}/fluxes/eurocom05x05/3h (with ${LUMIA_DATA} an environment variable)\n",
       "emissions.*.interval       : 3h\n",
       "emissions.path             : ${LUMIA_DATA}/fluxes/nc/${region}/${emissions.*.interval}\n",
       "emissions.prefix           : ${emissions.path}/flux_co2.\n",
       "emissions.fossil.origin    : EDGAR_eurocom\n",
       "emissions.ocean.origin     : CARBOSCOPEv1_5\n",
       "emissions.fires.origin     : GFED_monthly\n",
       "\n",
       "! ################################################################################################\n",
       "! Optimization keys:\n",
       "\n",
       "emissions.biosphere.optimize   : 1               ! The biosphere category is optimized\n",
       "emissions.*.optimize           : 0               ! All the other categories are prescribed\n",
       "optimization.interval          : m               ! The optimization is done monthly\n",
       "emissions.biosphere.error_min  : 0.              ! Not used?\n",
       "emissions.biosphere.error_type : tot             ! Not used?\n",
       "emissions.biosphere.tcorr      : 1.0-e-monthly   ! Temporal covariance length\n"
      ]
     },
     "execution_count": 2,
     "metadata": {},
     "output_type": "execute_result"
    }
   ],
   "source": [
    "from IPython import display\n",
    "display.Pretty(filename=\"../GMDD/rc/gmdd.rc\")"
   ]
  },
  {
   "cell_type": "markdown",
   "metadata": {},
   "source": [
    "\n",
    "The keys can be simple (e.g. the `project` key here), or composite (e.g. the `path.run` key). The syntax `${keyname}` is used to refer to the value of the key `keyname`, or, if there is no `keyname` key defined, it will look for a `keyname` environment variable as a fallback:"
   ]
  },
  {
   "cell_type": "code",
   "execution_count": 24,
   "metadata": {
    "execution": {
     "iopub.execute_input": "2020-08-26T12:29:15.975015Z",
     "iopub.status.busy": "2020-08-26T12:29:15.973184Z",
     "iopub.status.idle": "2020-08-26T12:29:15.999977Z",
     "shell.execute_reply": "2020-08-26T12:29:15.993385Z",
     "shell.execute_reply.started": "2020-08-26T12:29:15.974862Z"
    }
   },
   "outputs": [
    {
     "name": "stdout",
     "output_type": "stream",
     "text": [
      "   Raw value of the 'path.output' rc-key: results/${project}/${tag}\n",
      "Parsed value of the 'path.output' rc-key: results/GMD/super_preliminary\n"
     ]
    }
   ],
   "source": [
    "rcf.setkey(\"tag\", \"super_preliminary\")\n",
    "print(f\"   Raw value of the 'path.output' rc-key: {rcf.keys['path.output']}\")\n",
    "print(f\"Parsed value of the 'path.output' rc-key: {rcf.get('path.output')}\")"
   ]
  },
  {
   "cell_type": "markdown",
   "metadata": {},
   "source": [
    "The parsing is done dynamically, so the changes are passed on to the derived keys:"
   ]
  },
  {
   "cell_type": "code",
   "execution_count": 23,
   "metadata": {
    "execution": {
     "iopub.execute_input": "2020-08-26T12:29:13.926298Z",
     "iopub.status.busy": "2020-08-26T12:29:13.921083Z",
     "iopub.status.idle": "2020-08-26T12:29:13.959391Z",
     "shell.execute_reply": "2020-08-26T12:29:13.953765Z",
     "shell.execute_reply.started": "2020-08-26T12:29:13.925994Z"
    }
   },
   "outputs": [
    {
     "name": "stdout",
     "output_type": "stream",
     "text": [
      "Parsed value of the 'path.output' rc-key: results/GMD/super_cool\n"
     ]
    }
   ],
   "source": [
    "rcf.setkey(\"tag\", \"super_cool\")\n",
    "print(f\"Parsed value of the 'path.output' rc-key: {rcf.get('path.output')}\")"
   ]
  },
  {
   "cell_type": "markdown",
   "metadata": {},
   "source": [
    "The `#include` line can be used to include the content of another rc-file. In the example above, `rcf` contains both the keys of the `rc/gmdd.rc` and of `rc/common.rc` files:"
   ]
  },
  {
   "cell_type": "code",
   "execution_count": 26,
   "metadata": {
    "execution": {
     "iopub.execute_input": "2020-08-26T12:31:35.532250Z",
     "iopub.status.busy": "2020-08-26T12:31:35.530574Z",
     "iopub.status.idle": "2020-08-26T12:31:35.573309Z",
     "shell.execute_reply": "2020-08-26T12:31:35.570540Z",
     "shell.execute_reply.started": "2020-08-26T12:31:35.532098Z"
    }
   },
   "outputs": [
    {
     "data": {
      "text/plain": [
       "True"
      ]
     },
     "execution_count": 26,
     "metadata": {},
     "output_type": "execute_result"
    }
   ],
   "source": [
    "rcf.get(\"transport.output\")"
   ]
  },
  {
   "cell_type": "markdown",
   "metadata": {},
   "source": [
    "The keys can be composed of several subkeys (`subkey1.subkey2.subkey3 : value`). In the rc-file, it is possible to replace one of the subkeys by `*`, to set at once all the keys matching this pattern, as is done with the `emissions.*.optimize` key above:"
   ]
  },
  {
   "cell_type": "code",
   "execution_count": 27,
   "metadata": {
    "execution": {
     "iopub.execute_input": "2020-08-26T12:33:00.478093Z",
     "iopub.status.busy": "2020-08-26T12:33:00.476895Z",
     "iopub.status.idle": "2020-08-26T12:33:00.491965Z",
     "shell.execute_reply": "2020-08-26T12:33:00.490051Z",
     "shell.execute_reply.started": "2020-08-26T12:33:00.477952Z"
    }
   },
   "outputs": [
    {
     "name": "stdout",
     "output_type": "stream",
     "text": [
      "False\n",
      "True\n"
     ]
    }
   ],
   "source": [
    "print(rcf.get(\"emissions.fossil.optimize\", totype=bool))\n",
    "print(rcf.get(\"emissions.biosphere.optimize\", totype=bool))"
   ]
  },
  {
   "cell_type": "markdown",
   "metadata": {},
   "source": [
    "The `lumia.rc` class also includes a `write` methods, which writes all its keys and values to a new rc-file. All the composite keys (`${var}`) and `#include` commands are resolved when writing the file, so it provides a snapshot of the value of the keys at the time when the file is written.\n",
    "Note that the method will fail if some keys cannot be resolved!"
   ]
  }
 ],
 "metadata": {
  "kernelspec": {
   "display_name": "Python 3",
   "language": "python",
   "name": "python3"
  },
  "language_info": {
   "codemirror_mode": {
    "name": "ipython",
    "version": 3
   },
   "file_extension": ".py",
   "mimetype": "text/x-python",
   "name": "python",
   "nbconvert_exporter": "python",
   "pygments_lexer": "ipython3",
   "version": "3.8.2"
  }
 },
 "nbformat": 4,
 "nbformat_minor": 4
}
