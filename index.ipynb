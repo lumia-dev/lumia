{
 "cells": [
  {
   "cell_type": "markdown",
   "metadata": {},
   "source": [
    "# LUMIA\n",
    "\n",
    "The Lund University Modular Inversion Algorithm (LUMIA) is a python package for performing atmospheric transport inversions.\n",
    "\n",
    "The release 2020.8 is described in https://www.geosci-model-dev-discuss.net/gmd-2019-227/ and can be downloaded at [url](lumia.202008.tar.gz)\n",
    "\n",
    "## Installation instructions\n",
    "\n",
    "```\n",
    "wget THEPACKAGE.tar.gz\n",
    "tar xvf THEPACKAGE.tar.gz\n",
    "pip -e ...\n",
    "```\n",
    "\n",
    "## Usage\n",
    "\n",
    "The installation above setup the `lumia` library on the system, which can then be imported as any regular python module.\n",
    "It also adds the following executable to the user $PATH:\n",
    "- lagrange_mp.py\n",
    "- congrad.exe\n",
    "\n",
    "For more specific usage instruction, a [tutorial](GMDD/var4d.html) is available, and several example jupyter notebooks are included in the release file.\n",
    "\n",
    "## Developer access\n",
    "\n",
    "The LUMIA python package is a scientific tool:\n",
    "- it is on constant evolution\n",
    "- it has bugs that we haven't found yet\n",
    "- some parts of the code are insufficiently documented\n",
    "\n",
    "The code is released under the XXX open source licence. However, if you intend to use it for your scientific research, we suggest you contact us before ([lumia@blablabla](email)). We may provide support and give you a developer access to our git repository.\n",
    "\n",
    "## Publications\n",
    "\n",
    "https://www.geosci-model-dev-discuss.net/gmd-2019-227/\n",
    "\n",
    "https://acp.copernicus.org/preprints/acp-2019-1008/\n",
    "\n",
    "Thompson et al., 2020"
   ]
  }
 ],
 "metadata": {
  "kernelspec": {
   "display_name": "Python 3",
   "language": "python",
   "name": "python3"
  },
  "language_info": {
   "codemirror_mode": {
    "name": "ipython",
    "version": 3
   },
   "file_extension": ".py",
   "mimetype": "text/x-python",
   "name": "python",
   "nbconvert_exporter": "python",
   "pygments_lexer": "ipython3",
   "version": "3.8.2"
  }
 },
 "nbformat": 4,
 "nbformat_minor": 4
}
